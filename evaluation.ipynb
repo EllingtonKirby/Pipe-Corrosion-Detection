{
 "cells": [
  {
   "cell_type": "code",
   "execution_count": 1,
   "metadata": {},
   "outputs": [],
   "source": [
    "import torch\n",
    "import torch.nn as nn\n",
    "import torch.nn.functional as F\n",
    "from torch.utils.data import DataLoader, Dataset, random_split, TensorDataset\n",
    "from torchvision.transforms import functional as VF\n",
    "from torchmetrics.classification import BinaryJaccardIndex\n",
    "from torchvision import models, datasets, tv_tensors\n",
    "from torchvision.transforms import v2\n",
    "import pandas as pd\n",
    "import pandas as pd\n",
    "import numpy as np\n",
    "import os\n",
    "import re\n",
    "import matplotlib.pyplot as plt\n",
    "from sklearn.preprocessing import RobustScaler\n",
    "from tqdm import tqdm\n",
    "import random\n",
    "import data_pipeline"
   ]
  },
  {
   "cell_type": "code",
   "execution_count": 2,
   "metadata": {},
   "outputs": [
    {
     "name": "stdout",
     "output_type": "stream",
     "text": [
      "CUDA not available, switching to MPS\n"
     ]
    }
   ],
   "source": [
    "import unet\n",
    "import baseline\n",
    "import json\n",
    "model = unet.UNet(n_channels=1, n_classes=1)\n",
    "# model = baseline.Baseline()\n",
    "model.load_state_dict(torch.load('./unet_5.pt', map_location=torch.device('cpu')))\n",
    "test_df = data_pipeline.build_test_dataframe(use_processed_images=True)\n",
    "train_df = data_pipeline.build_dataframe(use_processed_images=True)"
   ]
  },
  {
   "cell_type": "code",
   "execution_count": 3,
   "metadata": {},
   "outputs": [],
   "source": [
    "X_test, X_names, X_train = data_pipeline.build_test_dataloaders(test_df, train_df)"
   ]
  },
  {
   "cell_type": "code",
   "execution_count": 4,
   "metadata": {},
   "outputs": [],
   "source": [
    "test_dl = DataLoader(TensorDataset(X_test), batch_size=1)"
   ]
  },
  {
   "cell_type": "code",
   "execution_count": 5,
   "metadata": {},
   "outputs": [
    {
     "name": "stderr",
     "output_type": "stream",
     "text": [
      "0it [00:00, ?it/s]"
     ]
    },
    {
     "name": "stderr",
     "output_type": "stream",
     "text": [
      "2538it [00:25, 98.06it/s] \n"
     ]
    }
   ],
   "source": [
    "predictions = {}\n",
    "model.eval()\n",
    "for index, x in tqdm(enumerate(test_dl)):\n",
    "  out = model(x[0])\n",
    "  preds = (F.sigmoid(out) > .5)*1.\n",
    "  name = X_names[index][0]\n",
    "  predictions[name] = preds.flatten().tolist()"
   ]
  },
  {
   "cell_type": "code",
   "execution_count": 6,
   "metadata": {},
   "outputs": [],
   "source": [
    "preds_df = pd.DataFrame.from_dict(predictions, orient='index')"
   ]
  },
  {
   "cell_type": "code",
   "execution_count": 8,
   "metadata": {},
   "outputs": [],
   "source": [
    "preds_df.to_csv('KIRBY_predictions_5.csv')"
   ]
  },
  {
   "cell_type": "markdown",
   "metadata": {},
   "source": [
    "# Pipe Prediction"
   ]
  },
  {
   "cell_type": "code",
   "execution_count": 23,
   "metadata": {},
   "outputs": [],
   "source": [
    "\n",
    "def get_pipe_id_dataloaders(train_dataframe, valid_dataframe):\n",
    "  data = torch.from_numpy(np.vstack(train_dataframe['data'].to_numpy()))\n",
    "  data = torch.nan_to_num(data)\n",
    "  labels = torch.from_numpy(np.vstack(train_dataframe['labels'].to_numpy()))\n",
    "\n",
    "  valid_data = torch.from_numpy(np.vstack(valid_dataframe['data'].to_numpy()))\n",
    "  valid_data = torch.nan_to_num(valid_data)\n",
    "  valid_labels = torch.from_numpy(np.vstack(valid_dataframe['well_number'].to_numpy())).squeeze() - 1\n",
    "  X_names = np.vstack(valid_dataframe['filename'].to_numpy())\n",
    "\n",
    "  X_train, X_valid = data.float().reshape(-1, 1, 36, 36), valid_data.float().reshape(-1, 1, 36, 36)\n",
    "  Y_train, Y_valid = labels, valid_labels\n",
    "\n",
    "  return X_train, X_valid, Y_train, Y_valid, X_names"
   ]
  },
  {
   "cell_type": "code",
   "execution_count": 24,
   "metadata": {},
   "outputs": [
    {
     "data": {
      "text/plain": [
       "<All keys matched successfully>"
      ]
     },
     "execution_count": 24,
     "metadata": {},
     "output_type": "execute_result"
    }
   ],
   "source": [
    "import pipe_identifier\n",
    "import json\n",
    "\n",
    "X_train, X_valid, Y_train, Y_valid, X_names = get_pipe_id_dataloaders(data_pipeline.build_dataframe(), data_pipeline.build_test_dataframe())\n",
    "model = pipe_identifier.PipeIdentifier(num_classes=15)\n",
    "model.load_state_dict(torch.load('./well_classifier_2.pt', map_location=torch.device('cpu')))\n"
   ]
  },
  {
   "cell_type": "code",
   "execution_count": 25,
   "metadata": {},
   "outputs": [],
   "source": [
    "pipe_id_dataloader = DataLoader(TensorDataset(X_valid), batch_size=1)"
   ]
  },
  {
   "cell_type": "code",
   "execution_count": 26,
   "metadata": {},
   "outputs": [
    {
     "name": "stderr",
     "output_type": "stream",
     "text": [
      "2538it [00:20, 121.54it/s]\n"
     ]
    }
   ],
   "source": [
    "predictions = {}\n",
    "model.eval()\n",
    "for index, x in tqdm(enumerate(pipe_id_dataloader)):\n",
    "  out = model(x[0])\n",
    "  preds = torch.argmax(F.softmax(out, dim=1))\n",
    "  name = X_names[index][0]\n",
    "  predictions[name] = preds.flatten().tolist()"
   ]
  },
  {
   "cell_type": "code",
   "execution_count": 27,
   "metadata": {},
   "outputs": [],
   "source": [
    "preds_df = pd.DataFrame.from_dict(predictions, orient='index')"
   ]
  },
  {
   "cell_type": "code",
   "execution_count": 28,
   "metadata": {},
   "outputs": [
    {
     "data": {
      "text/plain": [
       "12    2397\n",
       "5       87\n",
       "10      54\n",
       "Name: count, dtype: int64"
      ]
     },
     "execution_count": 28,
     "metadata": {},
     "output_type": "execute_result"
    }
   ],
   "source": [
    "preds_df.value_counts()"
   ]
  },
  {
   "cell_type": "code",
   "execution_count": 21,
   "metadata": {},
   "outputs": [
    {
     "name": "stderr",
     "output_type": "stream",
     "text": [
      "4717it [00:31, 150.14it/s]\n"
     ]
    }
   ],
   "source": [
    "predictions = {}\n",
    "model.eval()\n",
    "for index, x in tqdm(enumerate(X_train)):\n",
    "  out = model(x.unsqueeze(dim=0))\n",
    "  preds = torch.argmax(F.softmax(out, dim=1))\n",
    "  name = Y_train[index][0]\n",
    "  predictions[name] = preds.flatten().tolist()"
   ]
  },
  {
   "cell_type": "code",
   "execution_count": 22,
   "metadata": {},
   "outputs": [],
   "source": [
    "preds_df = pd.DataFrame.from_dict(predictions, orient='index')"
   ]
  }
 ],
 "metadata": {
  "kernelspec": {
   "display_name": "pytorch",
   "language": "python",
   "name": "python3"
  },
  "language_info": {
   "codemirror_mode": {
    "name": "ipython",
    "version": 3
   },
   "file_extension": ".py",
   "mimetype": "text/x-python",
   "name": "python",
   "nbconvert_exporter": "python",
   "pygments_lexer": "ipython3",
   "version": "3.10.11"
  }
 },
 "nbformat": 4,
 "nbformat_minor": 2
}
